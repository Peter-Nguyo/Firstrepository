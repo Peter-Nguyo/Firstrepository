{
 "cells": [
  {
   "cell_type": "markdown",
   "id": "6a34e600-7c02-4c14-84fd-40eb3777d3ab",
   "metadata": {},
   "source": [
    "#Personal details"
   ]
  },
  {
   "cell_type": "code",
   "execution_count": 7,
   "id": "2809fb9b-c80b-419e-bfb9-1d8a8c654fec",
   "metadata": {},
   "outputs": [
    {
     "name": "stdout",
     "output_type": "stream",
     "text": [
      "{'Name': 'Peter N', 'Age': 18, 'Marital_Status': 'Married', 'Nationality': 'Kenya'}\n"
     ]
    }
   ],
   "source": [
    "Name =  { \"Name\": \"Peter N\",\n",
    "      \"Age\": 18,\n",
    "      \"Marital_Status\": \"Married\",\n",
    "      \"Nationality\": \"Kenya\"\n",
    "     ,}\n",
    "print(Name)"
   ]
  }
 ],
 "metadata": {
  "kernelspec": {
   "display_name": "Python 3 (ipykernel)",
   "language": "python",
   "name": "python3"
  },
  "language_info": {
   "codemirror_mode": {
    "name": "ipython",
    "version": 3
   },
   "file_extension": ".py",
   "mimetype": "text/x-python",
   "name": "python",
   "nbconvert_exporter": "python",
   "pygments_lexer": "ipython3",
   "version": "3.13.2"
  }
 },
 "nbformat": 4,
 "nbformat_minor": 5
}
